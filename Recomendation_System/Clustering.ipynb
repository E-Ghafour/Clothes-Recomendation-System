{
 "cells": [
  {
   "cell_type": "code",
   "execution_count": 103,
   "metadata": {},
   "outputs": [],
   "source": [
    "import numpy as np\n",
    "import pandas as pd\n",
    "import matplotlib.pyplot as plt"
   ]
  },
  {
   "cell_type": "code",
   "execution_count": 129,
   "metadata": {},
   "outputs": [],
   "source": [
    "class Clustering:\n",
    "    def __init__(self, path='accounts_style.csv' ):\n",
    "        self.path = path\n",
    "        self.data = self.__pre_precessing(path)\n",
    "        print(data)\n",
    "\n",
    "    def __pre_precessing(self, path):\n",
    "        #select special part of the dataframe\n",
    "        data = pd.read_csv(path)\n",
    "        data = data.iloc[ : ,2:]\n",
    "\n",
    "        #spilit data and add new culomns\n",
    "        data[['Age1', 'Age2', 'Age3']] = data[\"Age\"].str.split(\",\", n=2, expand=True)\n",
    "        data[['Color1', 'Color2', 'Color3']] = data[\"Color\"].str.split(\",\", n=2, expand=True)\n",
    "        data[['Pattern1', 'Pattern2', 'Pattern3']] = data[\"Pattern\"].str.split(\",\", n=2, expand=True)\n",
    "        data[['Size1', 'Size2', 'Size3']] = data[\"Size\"].str.split(\",\", n=2, expand=True)\n",
    "        data[['Formal1', 'Formal2', 'Formal3']] = data[\"Formal\"].str.split(\",\", n=2, expand=True)\n",
    "\n",
    "        #drop unusage columns\n",
    "        data.drop(columns =['Age', 'Color', 'Pattern', 'Size', 'Formal'], inplace = True)\n",
    "\n",
    "        #convert type from str to float64\n",
    "        data = data.astype('float64')\n",
    "\n",
    "        #calculate the average of each row specialy\n",
    "        data['Age_avg'] = self.__special_mean(data[['Age1', 'Age2', 'Age3']].values,20)\n",
    "        data['Color-avg'] = self.__special_mean(data[['Color1', 'Color2', 'Color3']].values,20)\n",
    "        data['Pattern_avg'] = self.__special_mean(data[['Pattern1', 'Pattern2', 'Pattern3']].values,20)\n",
    "        data['Size-avg'] = self.__special_mean(data[['Size1', 'Size2', 'Size3']].values,20)\n",
    "        data['Formal_avg'] = self.__special_mean(data[['Formal1', 'Formal2', 'Formal3']].values,20)\n",
    "\n",
    "        #drop unusage columns\n",
    "        data.drop(columns =['Age1', 'Age2', 'Age3', 'Color1', 'Color2', 'Color3', 'Pattern1',\n",
    "         'Pattern2', 'Pattern3', 'Size1', 'Size2', 'Size3', 'Formal1', 'Formal2', 'Formal3'], inplace = True)\n",
    "\n",
    "        return data\n",
    "\n",
    "\n",
    "    def __special_mean(self, selectedClothes, anomaly):\n",
    "        # we have to ignore anomaly values in each component to have accessed the real mean value\n",
    "        meanVector = []\n",
    "        for i in range(np.shape(selectedClothes)[0]):\n",
    "            componentSum = 0\n",
    "            count = 0\n",
    "            for j in range(np.shape(selectedClothes)[1]):\n",
    "                if(selectedClothes[i][j] != anomaly):\n",
    "                    componentSum += selectedClothes[i][j]\n",
    "                    count += 1\n",
    "            meanVector.append(componentSum/count)\n",
    "\n",
    "        return meanVector\n",
    "\n",
    "\n"
   ]
  },
  {
   "cell_type": "code",
   "execution_count": 130,
   "metadata": {},
   "outputs": [
    {
     "name": "stdout",
     "output_type": "stream",
     "text": [
      "     Age_avg  Color-avg  Pattern_avg  Size-avg  Formal_avg\n",
      "0        3.0        5.0          1.0       3.0         3.0\n",
      "1        4.0        5.0          1.0       3.0         4.0\n",
      "2        2.0        5.0          1.0       3.0         3.0\n",
      "3        2.0        5.0          1.0       2.0         3.0\n",
      "4        2.0        4.0          1.0       3.0         3.0\n",
      "..       ...        ...          ...       ...         ...\n",
      "395      2.5        2.5          1.0       2.0         3.5\n",
      "396      2.5        5.0          3.0       2.0         2.5\n",
      "397      2.5        4.5          3.0       2.5         1.5\n",
      "398      2.5        2.5          3.0       2.0         2.0\n",
      "399      2.5        5.0          3.0       2.5         2.5\n",
      "\n",
      "[400 rows x 5 columns]\n"
     ]
    }
   ],
   "source": [
    "clustering = Clustering()\n"
   ]
  },
  {
   "cell_type": "code",
   "execution_count": null,
   "metadata": {},
   "outputs": [],
   "source": []
  }
 ],
 "metadata": {
  "interpreter": {
   "hash": "52d90d3cc821dd0beedd6e719dbdecc722c226b9d90ed1b663c34e1877f1142e"
  },
  "kernelspec": {
   "display_name": "Python 3.8.8 ('base')",
   "language": "python",
   "name": "python3"
  },
  "language_info": {
   "codemirror_mode": {
    "name": "ipython",
    "version": 3
   },
   "file_extension": ".py",
   "mimetype": "text/x-python",
   "name": "python",
   "nbconvert_exporter": "python",
   "pygments_lexer": "ipython3",
   "version": "3.8.8"
  },
  "orig_nbformat": 4
 },
 "nbformat": 4,
 "nbformat_minor": 2
}
