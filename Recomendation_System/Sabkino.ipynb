{
 "cells": [
  {
   "cell_type": "code",
   "execution_count": 126,
   "id": "72f4fd5e",
   "metadata": {},
   "outputs": [],
   "source": [
    "import numpy as np\n",
    "import pandas as pd\n",
    "from math import *"
   ]
  },
  {
   "cell_type": "code",
   "execution_count": 127,
   "id": "83d82205",
   "metadata": {},
   "outputs": [],
   "source": [
    "# n equal to number of features\n",
    "n = 5\n",
    "\n",
    "# m equal to number of samples\n",
    "m = 100"
   ]
  },
  {
   "cell_type": "code",
   "execution_count": 128,
   "id": "6a50e08c",
   "metadata": {},
   "outputs": [],
   "source": [
    "class RecommendationSystem:\n",
    "    \n",
    "    def __init__(self, allClothes):\n",
    "        self.allClothes = allClothes\n",
    "\n",
    "        \n",
    "    def recommend_based_on_questions(self, values, customer_feature1, customer_feature2, customer_feature3, customer_feature4, k1 = 4, k2=1, k3=1, k4=1):\n",
    "    \n",
    "        #k nearest neighbor\n",
    "        k_indices1 = self.__one_recommend(customer_feature1, values, k1)\n",
    "        k_indices2 = self.__one_recommend(customer_feature2, values, k2)\n",
    "        k_indices3 = self.__one_recommend(customer_feature3, values, k3)\n",
    "        k_indices4 = self.__one_recommend(customer_feature4, values, k4)\n",
    "                \n",
    "        # merge and unigue indices(union)\n",
    "        k_indices = np.append(k_indices1, np.append(k_indices2, np.append(k_indices3, k_indices4)))\n",
    "        \n",
    "        # return the selected style indices \n",
    "        return k_indices\n",
    "\n",
    "\n",
    "    def recommend_based_on_clothes(self, selectedClothes, values, anomaly, k=5):\n",
    "        \n",
    "        #asume average of the each component for the as the customer vector of self.__oneRecommend little diffrent with the ordinary averages\n",
    "        average_of_multi_tags = self.__special_mean(selectedClothes, anomaly)\n",
    "        k_indeces = self.__one_recommend(average_of_multi_tags, values, k)\n",
    "        return k_indeces\n",
    "\n",
    "\n",
    "    def recommend_based_on_cluster(self, cluster_taste, k=30):\n",
    "        return 1\n",
    "\n",
    "\n",
    "    def __one_recommend(self, customer, values, k):\n",
    "        # compute distances by one of the distance(distance_1, distance_2, ...) functions\n",
    "        distances = np.array([self.__similarity2(customer, f, values) for f in self.allClothes])\n",
    "        \n",
    "        # return k nearest style indices\n",
    "        return np.argsort(distances)[: k]\n",
    "\n",
    "\n",
    "\n",
    "    def update_cluster_taste(self, prev_cluster_taste, comment, clothesInd, alpha = 0.1 ):\n",
    "        #find the class number of clothes\n",
    "        #clusterNumber = self.which_cluster(clothesInd)\n",
    "        clusterNumber = 3\n",
    "        \n",
    "        #calculate the new replacement for selected cluster with weighted average\n",
    "        weightedAverage = np.average([prev_cluster_taste[clusterNumber], comment], weights=[1,alpha])\n",
    "\n",
    "        #update prev_Cluster_taste \n",
    "        prev_cluster_taste[clusterNumber] = weightedAverage\n",
    "        return prev_cluster_taste\n",
    "\n",
    "\n",
    "\n",
    "    def __clustring(self, clothes):\n",
    "        return 1\n",
    "\n",
    "\n",
    "\n",
    "\n",
    "\n",
    "\n",
    "        \n",
    "    def which_cluster(ClothesInd):\n",
    "        return 1\n",
    "\n",
    "\n",
    "    def __similarity1(self, customer, clothes, values):\n",
    "        lowestMines = self.__lowest_mines(customer, clothes)      \n",
    "        return np.sum(values * np.abs(lowestMines))\n",
    "    \n",
    "    \n",
    "    def __similarity2(self, customer, clothes, values):\n",
    "        lowestMines = self.__lowest_mines(customer, clothes)      \n",
    "        return np.sqrt(np.sum(values*((lowestMines) ** 2 )))\n",
    "\n",
    "\n",
    "    def __lowest_mines(self, customer, clothes):\n",
    "        bestClothes = []\n",
    "        tmpArray1 = []\n",
    "        for i in range(len(customer)):\n",
    "            for j in range(np.shape(clothes)[1]):\n",
    "                tmpArray1.append(abs((customer[i] - clothes[i][j])))\n",
    "            bestClothes.append(min(tmpArray1))  \n",
    "            tmpArray1 = []\n",
    "        return np.array(bestClothes)\n",
    "\n",
    "    def __special_mean(self, selectedClothes, anomaly):\n",
    "        # we have to ignore anomaly values in each component to have access the real mean value\n",
    "        meanVector = []\n",
    "        for i in range(np.shape(selectedClothes)[0]):\n",
    "            componentSum = 0\n",
    "            count = 0\n",
    "            for j in range(np.shape(selectedClothes)[1]):\n",
    "                if(selectedClothes[i][j] != anomaly):\n",
    "                    componentSum += selectedClothes[i][j]\n",
    "                    count += 1\n",
    "            meanVector.append(componentSum/count)\n",
    "\n",
    "        return meanVector\n",
    "\n",
    "            \n",
    "\n",
    "\n",
    "    def extract_clothes(self, clothes):\n",
    "        return 1\n",
    "\n",
    "\n",
    "    def remove_duplicates(self, clothes):\n",
    "        return 1\n",
    "            \n",
    "        \n",
    "    "
   ]
  },
  {
   "cell_type": "markdown",
   "id": "9e6ea097",
   "metadata": {},
   "source": [
    "### 1.Test of recommend_based_on_questions function \n",
    "---\n",
    "creating random data and check the answers of recommend_based_on_questions function, subfunctions.\n",
    "its subfuctions including:\n",
    "- __similarity2\n",
    "- __lowest_mines\n",
    "- __one_recommend\n",
    "\n"
   ]
  },
  {
   "cell_type": "code",
   "execution_count": 129,
   "id": "22d324bd",
   "metadata": {},
   "outputs": [],
   "source": [
    "import random "
   ]
  },
  {
   "cell_type": "code",
   "execution_count": 130,
   "id": "2a8a5bae",
   "metadata": {},
   "outputs": [
    {
     "name": "stdout",
     "output_type": "stream",
     "text": [
      "[[[2. 2. 0.]\n",
      "  [4. 1. 0.]\n",
      "  [2. 4. 4.]\n",
      "  [3. 2. 1.]\n",
      "  [3. 3. 4.]]\n",
      "\n",
      " [[3. 3. 0.]\n",
      "  [4. 3. 2.]\n",
      "  [2. 4. 0.]\n",
      "  [4. 1. 4.]\n",
      "  [2. 1. 2.]]]\n"
     ]
    }
   ],
   "source": [
    "#create random clothes tags\n",
    "my_list = [0, 1, 2, 3, 4]\n",
    "clothes = np.zeros((m, n, 3))\n",
    "for i in range(m):\n",
    "    for j in range(n):\n",
    "        for k in range(3):\n",
    "            clothes[i, j, k] = random.choice(my_list)\n",
    "    \n",
    "print(clothes[:2])"
   ]
  },
  {
   "cell_type": "code",
   "execution_count": 131,
   "id": "8634945c",
   "metadata": {},
   "outputs": [
    {
     "name": "stdout",
     "output_type": "stream",
     "text": [
      "[0 1 0 0 4] [4 1 2 1 3] [0 2 4 1 3] [4 3 3 0 0]\n"
     ]
    }
   ],
   "source": [
    "#create random personal tags\n",
    "customer1 = np.array([random.choice(my_list) for j in range(n)])\n",
    "\n",
    "#create 3 random selected style tags\n",
    "customer2 = np.array([random.choice(my_list) for j in range(n)])\n",
    "customer3 = np.array([random.choice(my_list) for j in range(n)])\n",
    "customer4 = np.array([random.choice(my_list) for j in range(n)])\n",
    "print(customer1, customer2, customer3, customer4)"
   ]
  },
  {
   "cell_type": "code",
   "execution_count": 132,
   "id": "67713401",
   "metadata": {},
   "outputs": [],
   "source": [
    "recommendationSystem = RecommendationSystem(clothes)\n",
    "\n",
    "distances_indices = recommendationSystem.recommend_based_on_questions([1,1,1,1,1], customer1, customer2, customer3, customer4)"
   ]
  },
  {
   "cell_type": "code",
   "execution_count": 133,
   "id": "4810e76c",
   "metadata": {},
   "outputs": [
    {
     "name": "stdout",
     "output_type": "stream",
     "text": [
      "[0 1 0 0 4]\n",
      "[[[4. 0. 0.]\n",
      "  [1. 3. 2.]\n",
      "  [1. 0. 3.]\n",
      "  [1. 0. 0.]\n",
      "  [4. 2. 1.]]\n",
      "\n",
      " [[4. 1. 0.]\n",
      "  [1. 0. 0.]\n",
      "  [1. 0. 4.]\n",
      "  [0. 0. 1.]\n",
      "  [4. 2. 1.]]\n",
      "\n",
      " [[0. 3. 2.]\n",
      "  [1. 3. 4.]\n",
      "  [0. 4. 3.]\n",
      "  [0. 1. 2.]\n",
      "  [1. 4. 3.]]\n",
      "\n",
      " [[2. 1. 0.]\n",
      "  [2. 0. 0.]\n",
      "  [0. 0. 2.]\n",
      "  [0. 4. 3.]\n",
      "  [2. 4. 0.]]\n",
      "\n",
      " [[4. 1. 2.]\n",
      "  [1. 3. 4.]\n",
      "  [0. 2. 0.]\n",
      "  [2. 1. 1.]\n",
      "  [3. 4. 4.]]\n",
      "\n",
      " [[2. 2. 0.]\n",
      "  [4. 1. 0.]\n",
      "  [2. 4. 4.]\n",
      "  [3. 2. 1.]\n",
      "  [3. 3. 4.]]\n",
      "\n",
      " [[0. 0. 4.]\n",
      "  [2. 3. 2.]\n",
      "  [4. 2. 3.]\n",
      "  [0. 2. 0.]\n",
      "  [3. 3. 0.]]]\n"
     ]
    },
    {
     "data": {
      "text/plain": [
       "numpy.ndarray"
      ]
     },
     "execution_count": 133,
     "metadata": {},
     "output_type": "execute_result"
    }
   ],
   "source": [
    "print(customer1)\n",
    "print(clothes[distances_indices])\n",
    "type(distances_indices)"
   ]
  },
  {
   "cell_type": "markdown",
   "id": "77d039c8",
   "metadata": {},
   "source": [
    "### 2.Test of update_cluster_taste function \n",
    "---\n",
    "creating random data and check the answers of update_cluster_taste function, subfunctions.\n",
    "its subfuctions including:\n",
    "- __which_cluster"
   ]
  },
  {
   "cell_type": "code",
   "execution_count": 134,
   "id": "31dfb83c",
   "metadata": {},
   "outputs": [
    {
     "data": {
      "text/plain": [
       "[5, 5, 5, 4.636363636363636, 5]"
      ]
     },
     "execution_count": 134,
     "metadata": {},
     "output_type": "execute_result"
    }
   ],
   "source": [
    "#__wich_cluster always return 1 untill clustering implementation\n",
    "clusterTaste = [5, 5, 5, 5, 5]\n",
    "recommendationSystem.update_cluster_taste(prev_cluster_taste=clusterTaste, comment=1, clothesInd=145)"
   ]
  },
  {
   "cell_type": "markdown",
   "id": "1cdf19dc",
   "metadata": {},
   "source": [
    "### 3.Test of recommend_based_on_clothes function \n",
    "---\n",
    "creating random data and check the answers of recommend_based_on_clothes function, subfunctions.\n",
    "its subfuctions including:\n",
    "- __special_mean\n",
    "- __one_recommend"
   ]
  },
  {
   "cell_type": "code",
   "execution_count": 136,
   "id": "0f0a15c3",
   "metadata": {},
   "outputs": [
    {
     "data": {
      "text/plain": [
       "array([[[2., 2., 0.],\n",
       "        [4., 1., 0.],\n",
       "        [2., 4., 4.],\n",
       "        [3., 2., 1.],\n",
       "        [3., 3., 4.]],\n",
       "\n",
       "       [[3., 2., 2.],\n",
       "        [4., 4., 1.],\n",
       "        [4., 1., 1.],\n",
       "        [0., 2., 1.],\n",
       "        [2., 1., 0.]],\n",
       "\n",
       "       [[1., 1., 3.],\n",
       "        [1., 1., 1.],\n",
       "        [0., 1., 4.],\n",
       "        [1., 2., 0.],\n",
       "        [2., 0., 3.]],\n",
       "\n",
       "       [[1., 2., 4.],\n",
       "        [1., 3., 0.],\n",
       "        [1., 2., 4.],\n",
       "        [2., 4., 3.],\n",
       "        [4., 3., 3.]],\n",
       "\n",
       "       [[1., 2., 0.],\n",
       "        [3., 1., 1.],\n",
       "        [3., 0., 2.],\n",
       "        [2., 4., 1.],\n",
       "        [0., 3., 4.]]])"
      ]
     },
     "execution_count": 136,
     "metadata": {},
     "output_type": "execute_result"
    }
   ],
   "source": [
    "clothesTest = [[1,2,10], [1,10,10], [3,4,10], [1,2,3]]\n",
    "indecesTest3 = recommendationSystem.recommend_based_on_clothes(clothesTest, values=[1,1,1,1], anomaly=10 )\n",
    "clothes[indecesTest3]"
   ]
  },
  {
   "cell_type": "code",
   "execution_count": null,
   "id": "16498a32",
   "metadata": {},
   "outputs": [],
   "source": []
  }
 ],
 "metadata": {
  "interpreter": {
   "hash": "52d90d3cc821dd0beedd6e719dbdecc722c226b9d90ed1b663c34e1877f1142e"
  },
  "kernelspec": {
   "display_name": "Python 3.8.8 ('base')",
   "language": "python",
   "name": "python3"
  },
  "language_info": {
   "codemirror_mode": {
    "name": "ipython",
    "version": 3
   },
   "file_extension": ".py",
   "mimetype": "text/x-python",
   "name": "python",
   "nbconvert_exporter": "python",
   "pygments_lexer": "ipython3",
   "version": "3.8.8"
  }
 },
 "nbformat": 4,
 "nbformat_minor": 5
}
