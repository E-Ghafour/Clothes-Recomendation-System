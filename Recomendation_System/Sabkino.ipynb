{
 "cells": [
  {
   "cell_type": "code",
   "execution_count": 285,
   "id": "72f4fd5e",
   "metadata": {},
   "outputs": [],
   "source": [
    "import numpy as np\n",
    "import pandas as pd\n",
    "from math import *\n",
    "import math"
   ]
  },
  {
   "cell_type": "code",
   "execution_count": 286,
   "id": "83d82205",
   "metadata": {},
   "outputs": [],
   "source": [
    "# n equal to number of features\n",
    "n = 5\n",
    "\n",
    "# m equal to number of samples\n",
    "m = 100"
   ]
  },
  {
   "cell_type": "code",
   "execution_count": 287,
   "id": "72f4fd5e",
   "metadata": {},
   "outputs": [],
   "source": [
    "import numpy as np\n",
    "import pandas as pd\n",
    "from math import *\n",
    "import matplotlib.pyplot as plt\n",
    "from sklearn.preprocessing import Normalizer\n",
    "from sklearn.cluster import KMeans"
   ]
  },
  {
   "cell_type": "markdown",
   "id": "89a855af",
   "metadata": {},
   "source": [
    "## Kmeans"
   ]
  },
  {
   "cell_type": "code",
   "execution_count": 288,
   "id": "0254f89f",
   "metadata": {},
   "outputs": [],
   "source": [
    "class Clustering:\n",
    "    def __init__(self, path='accounts_style.csv' ):\n",
    "        self.path = path\n",
    "        self.data = self.__preprecessing(path)\n",
    "        self.data = self.__normalize_based_on_values([2.8, 2.25, 1.7, 1.35, 1.85])\n",
    "        \n",
    "\n",
    "    def row_processing(self, data):\n",
    "        #print(self.data)\n",
    "        #select special part of the dataframe\n",
    "        data = data.iloc[ : ,2:]\n",
    "\n",
    "        #spilit data and add new culomns\n",
    "        data[['Age1', 'Age2', 'Age3']] = data[\"Age\"].str.split(\",\", n=2, expand=True)\n",
    "        data[['Color1', 'Color2', 'Color3']] = data[\"Color\"].str.split(\",\", n=2, expand=True)\n",
    "        data[['Pattern1', 'Pattern2', 'Pattern3']] = data[\"Pattern\"].str.split(\",\", n=2, expand=True)\n",
    "        data[['Size1', 'Size2', 'Size3']] = data[\"Size\"].str.split(\",\", n=2, expand=True)\n",
    "        data[['Formal1', 'Formal2', 'Formal3']] = data[\"Formal\"].str.split(\",\", n=2, expand=True)\n",
    "\n",
    "        #drop unusage columns\n",
    "        data.drop(columns =['Age', 'Color', 'Pattern', 'Size', 'Formal'], inplace = True)\n",
    "\n",
    "        #convert type from str to float64\n",
    "        data = data.astype('float64')\n",
    "\n",
    "        #calculate the average of each row specialy\n",
    "        data['Age_avg'] = self.__special_mean(data[['Age1', 'Age2', 'Age3']].values,20)\n",
    "        data['Color-avg'] = self.__special_mean(data[['Color1', 'Color2', 'Color3']].values,20)\n",
    "        data['Pattern_avg'] = self.__special_mean(data[['Pattern1', 'Pattern2', 'Pattern3']].values,20)\n",
    "        data['Size-avg'] = self.__special_mean(data[['Size1', 'Size2', 'Size3']].values,20)\n",
    "        data['Formal_avg'] = self.__special_mean(data[['Formal1', 'Formal2', 'Formal3']].values,20)\n",
    "        \n",
    "        #drop unusage columns\n",
    "        data.drop(columns =['Age1', 'Age2', 'Age3', 'Color1', 'Color2', 'Color3', 'Pattern1',\n",
    "         'Pattern2', 'Pattern3', 'Size1', 'Size2', 'Size3', 'Formal1', 'Formal2', 'Formal3'], inplace = True)\n",
    "         \n",
    "        data = self.preprocess.transform(data)\n",
    "        data = pd.DataFrame(data, columns=['Age_avg', 'Color_avg', 'Pattern_avg', 'Size_avg', 'Formal_avg'])\n",
    "        data = (data - 0.5) * 2\n",
    "        return data\n",
    "\n",
    "\n",
    "\n",
    "    def getData(self):\n",
    "        return self.data\n",
    "\n",
    "\n",
    "    def fit_predict(self, n_clusters=6):\n",
    "        kmeans = KMeans(n_clusters = n_clusters, init = 'k-means++', random_state = 42)\n",
    "        self.kmeans = kmeans\n",
    "        return kmeans.fit_predict(self.data)\n",
    "\n",
    "\n",
    "    def cluster_centers(self):\n",
    "        return self.kmeans.cluster_centers_\n",
    "\n",
    "\n",
    "\n",
    "    def predict(self, input):\n",
    "        return self.kmeans.predict(input)\n",
    "\n",
    "    \n",
    "    def __preprecessing(self, path):\n",
    "        #select special part of the dataframe\n",
    "        data = pd.read_csv(path)\n",
    "        data = data.iloc[ : ,2:]\n",
    "        #print(data)\n",
    "\n",
    "        #spilit data and add new culomns\n",
    "        data[['Age1', 'Age2', 'Age3']] = data[\"Age\"].str.split(\",\", n=2, expand=True)\n",
    "        data[['Color1', 'Color2', 'Color3']] = data[\"Color\"].str.split(\",\", n=2, expand=True)\n",
    "        data[['Pattern1', 'Pattern2', 'Pattern3']] = data[\"Pattern\"].str.split(\",\", n=2, expand=True)\n",
    "        data[['Size1', 'Size2', 'Size3']] = data[\"Size\"].str.split(\",\", n=2, expand=True)\n",
    "        data[['Formal1', 'Formal2', 'Formal3']] = data[\"Formal\"].str.split(\",\", n=2, expand=True)\n",
    "\n",
    "        #drop unusage columns\n",
    "        data.drop(columns =['Age', 'Color', 'Pattern', 'Size', 'Formal'], inplace = True)\n",
    "\n",
    "        #convert type from str to float64\n",
    "        data = data.astype('float64')\n",
    "\n",
    "        #calculate the average of each row specialy\n",
    "        data['Age_avg'] = self.__special_mean(data[['Age1', 'Age2', 'Age3']].values,20)\n",
    "        data['Color_avg'] = self.__special_mean(data[['Color1', 'Color2', 'Color3']].values,20)\n",
    "        data['Pattern_avg'] = self.__special_mean(data[['Pattern1', 'Pattern2', 'Pattern3']].values,20)\n",
    "        data['Size_avg'] = self.__special_mean(data[['Size1', 'Size2', 'Size3']].values,20)\n",
    "        data['Formal_avg'] = self.__special_mean(data[['Formal1', 'Formal2', 'Formal3']].values,20)\n",
    "\n",
    "        #drop unusage columns\n",
    "        data.drop(columns =['Age1', 'Age2', 'Age3', 'Color1', 'Color2', 'Color3', 'Pattern1',\n",
    "         'Pattern2', 'Pattern3', 'Size1', 'Size2', 'Size3', 'Formal1', 'Formal2', 'Formal3'], inplace = True)\n",
    "        return data\n",
    "\n",
    "\n",
    "    def print_n_cluster(self):\n",
    "        wcss = []\n",
    "        for i in range(1, 11):\n",
    "            kmeans = KMeans(n_clusters = i, init = 'k-means++', random_state = 42)\n",
    "            kmeans.fit(self.data)\n",
    "            wcss.append(kmeans.inertia_)\n",
    "        plt.plot(range(1, 11), wcss)\n",
    "        plt.title('The Elbow Method')\n",
    "        plt.xlabel('Number of clusters')\n",
    "        plt.ylabel('WCSS')\n",
    "        plt.show()\n",
    "\n",
    "\n",
    "    def __normalize_based_on_values(self, values):\n",
    "        #normalize data from 0 to 1\n",
    "        self.values = values\n",
    "        preprocess = Normalizer().fit(self.data)\n",
    "        inputData = preprocess.transform(self.data)\n",
    "        normalized_data = pd.DataFrame(inputData, columns=self.data.columns)\n",
    "        self.preprocess = preprocess\n",
    "\n",
    "        #put it in -1 to +1\n",
    "        normalized_data = (normalized_data - 0.5) * 2\n",
    "\n",
    "        #change the period for each component to change the influence\n",
    "        normalized_data = normalized_data * values\n",
    "        return normalized_data\n",
    "\n",
    "\n",
    "    def __special_mean(self, selectedClothes, anomaly):\n",
    "        # we have to ignore anomaly values in each component to have accessed the real mean value\n",
    "        meanVector = []\n",
    "        for i in range(np.shape(selectedClothes)[0]):\n",
    "            componentSum = 0\n",
    "            count = 0\n",
    "            for j in range(np.shape(selectedClothes)[1]):\n",
    "                if(selectedClothes[i][j] != anomaly):\n",
    "                    componentSum += selectedClothes[i][j]\n",
    "                    count += 1\n",
    "            meanVector.append(componentSum/count)\n",
    "\n",
    "        return meanVector\n",
    "\n",
    "\n"
   ]
  },
  {
   "cell_type": "markdown",
   "id": "ba8b2b0f",
   "metadata": {},
   "source": [
    "## recommend"
   ]
  },
  {
   "cell_type": "code",
   "execution_count": 289,
   "id": "6a50e08c",
   "metadata": {},
   "outputs": [],
   "source": [
    "class RecommendationSystem:\n",
    "    \n",
    "    def __init__(self, allClothes):\n",
    "        self.allClothes = allClothes\n",
    "        self.clustering = Clustering(path='accounts_style.csv')\n",
    "        self.answers = self.clustering.fit_predict(n_clusters=6)\n",
    "        self.preparedDataWithAnswers = self.clustering.getData()\n",
    "        self.preparedDataWithAnswers.insert(0, 'Id', range(1,401))\n",
    "        self.preparedDataWithAnswers['Answers'] = self.answers\n",
    "\n",
    "\n",
    "    def print_n_cluster(self):\n",
    "        self.clustering.print_n_cluster()\n",
    "\n",
    "    def get_prepared_data_with_anwers(self):\n",
    "        return self.preparedDataWithAnswers\n",
    "\n",
    "    def recommend_based_on_questions(self, values, customer_feature1, customer_feature2, customer_feature3, customer_feature4, k1 = 4, k2=1, k3=1, k4=1):\n",
    "    \n",
    "        #k nearest neighbor\n",
    "        k_indices1 = self.__one_recommend(customer_feature1, values, k1)\n",
    "        k_indices2 = self.__one_recommend(customer_feature2, values, k2)\n",
    "        k_indices3 = self.__one_recommend(customer_feature3, values, k3)\n",
    "        k_indices4 = self.__one_recommend(customer_feature4, values, k4)\n",
    "                \n",
    "        # merge and unigue indices(union)\n",
    "        k_indices = np.append(k_indices1, np.append(k_indices2, np.append(k_indices3, k_indices4)))\n",
    "        \n",
    "        # return the selected style indices \n",
    "        return k_indices\n",
    "\n",
    "\n",
    "    def upddate_all_clothes(self, clothes):\n",
    "        self.allClothes = clothes\n",
    "        return 1\n",
    "\n",
    "\n",
    "    def recommend_based_on_clothes(self, selectedClothes, values, anomaly = 20, k=5):\n",
    "        #asume average of the each component for the as the customer vector of self.__oneRecommend little diffrent with the ordinary averages\n",
    "        average_of_multi_tags = self.__special_mean(selectedClothes, anomaly)\n",
    "        k_indeces = self.__one_recommend(average_of_multi_tags, values, k)\n",
    "        return k_indeces\n",
    "\n",
    "\n",
    "    def recommend_based_on_cluster(self, cluster_taste, k=30):\n",
    "        tasteSum = sum(cluster_taste)\n",
    "        selected_indices = []\n",
    "        for i in range(len(cluster_taste)):\n",
    "            selected_indices.append(self.__k_recommend_recommend_based_on_cluster(i, math.ceil(k*cluster_taste[i]/tasteSum)))\n",
    "        selected_indices = self.__flatten(selected_indices)\n",
    "        random.shuffle(selected_indices)    \n",
    "        return selected_indices\n",
    "\n",
    "\n",
    "\n",
    "    def add_item(self, clothes, id):\n",
    "        clothes = pd.DataFrame(clothes, columns=['Id','Url','Age','Color','Pattern','Size','Formal'])\n",
    "        clothes = self.clustering.row_processing(clothes)\n",
    "        answer = self.clustering.predict(clothes)\n",
    "        clothes['Answers'] = answer\n",
    "        clothes.insert(0, 'Id', id)\n",
    "        self.preparedDataWithAnswers.append(clothes)\n",
    "        return 1\n",
    "\n",
    "\n",
    "    def __k_recommend_recommend_based_on_cluster(self, ind, k):\n",
    "        indices = self.preparedDataWithAnswers[~self.preparedDataWithAnswers.where(self.preparedDataWithAnswers['Answers'] == ind)['Answers'].isnull()]['Id'].values\n",
    "        rndIndices = random.sample(list(indices), k)\n",
    "        print(rndIndices)\n",
    "        return rndIndices\n",
    "\n",
    "\n",
    "    def __one_recommend(self, customer, values, k):\n",
    "        # compute distances by one of the distance(distance_1, distance_2, ...) functions\n",
    "        distances = np.array([self.__similarity2(customer, f, values) for f in self.allClothes])\n",
    "        \n",
    "        # return k nearest style indices\n",
    "        return np.argsort(distances)[: k]\n",
    "\n",
    "\n",
    "    def __flatten(self, t):\n",
    "        return [item for sublist in t for item in sublist]\n",
    "\n",
    "\n",
    "    def normal_recommend_question2(self):\n",
    "        question2Indices = []\n",
    "        for i in range(0,6):\n",
    "            oneClusterIndices = self.preparedDataWithAnswers[~self.preparedDataWithAnswers.where(self.preparedDataWithAnswers['Answers'] == i)['Answers'].isnull()]['Id'].values\n",
    "            question2Indices.append(random.choice(oneClusterIndices))\n",
    "        return question2Indices\n",
    "    \n",
    "\n",
    "    def update_cluster_taste(self, prev_cluster_taste, comment, clothesInd, alpha = 0.2 ):\n",
    "        #find the class number of clothes\n",
    "        clusterNumber = self.which_cluster(clothesInd)\n",
    "        #calculate the new replacement for selected cluster with weighted average\n",
    "        weightedAverage = np.average([prev_cluster_taste[clusterNumber], comment], weights=[1,alpha])\n",
    "\n",
    "        #update prev_Cluster_taste \n",
    "        prev_cluster_taste[clusterNumber] = weightedAverage\n",
    "        return prev_cluster_taste\n",
    "\n",
    "\n",
    "    def favorite_items(inputmatrix):\n",
    "        items = pd.DataFrame(inputmatrix, columns=['id', 'average', 'count'])\n",
    "        items['average'] = 0.5 *(2*items['average']).apply(np.ceil)\n",
    "        items.sort_values(['average', 'count'], inplace=True, ascending=False)\n",
    "        return items.values\n",
    "\n",
    "\n",
    "    def which_cluster(self, clothesInd):\n",
    "        return self.preparedDataWithAnswers[~self.preparedDataWithAnswers.where(self.preparedDataWithAnswers['Id'] == clothesInd )['Answers'].isnull()]['Answers'].values[0]\n",
    "\n",
    "\n",
    "    def __similarity1(self, customer, clothes, values):\n",
    "        lowestMines = self.__lowest_mines(customer, clothes)      \n",
    "        return np.sum(values * np.abs(lowestMines))\n",
    "    \n",
    "    \n",
    "    def __similarity2(self, customer, clothes, values):\n",
    "        lowestMines = self.__lowest_mines(customer, clothes)      \n",
    "        return np.sqrt(np.sum(values*((lowestMines) ** 2 )))\n",
    "\n",
    "\n",
    "    def __lowest_mines(self, customer, clothes):\n",
    "        bestClothes = []\n",
    "        tmpArray1 = []\n",
    "        for i in range(len(customer)):\n",
    "            for j in range(np.shape(clothes)[1]):\n",
    "                tmpArray1.append(abs((customer[i] - clothes[i][j])))\n",
    "            bestClothes.append(min(tmpArray1))  \n",
    "            tmpArray1 = []\n",
    "        return np.array(bestClothes)\n",
    "\n",
    "\n",
    "    def __special_mean(self, selectedClothes, anomaly):\n",
    "        # we have to ignore anomaly values in each component to have access the real mean value\n",
    "        meanVector = []\n",
    "        for i in range(np.shape(selectedClothes)[0]):\n",
    "            componentSum = 0\n",
    "            count = 0\n",
    "            for j in range(np.shape(selectedClothes)[1]):\n",
    "                if(selectedClothes[i][j] != anomaly):\n",
    "                    componentSum += selectedClothes[i][j]\n",
    "                    count += 1\n",
    "            meanVector.append(componentSum/count)\n",
    "\n",
    "        return meanVector\n",
    "            "
   ]
  },
  {
   "cell_type": "markdown",
   "id": "9e6ea097",
   "metadata": {},
   "source": [
    "### 1.Test of recommend_based_on_questions function \n",
    "---\n",
    "creating random data and check the answers of recommend_based_on_questions function, subfunctions.\n",
    "its subfuctions including:\n",
    "- __similarity2\n",
    "- __lowest_mines\n",
    "- __one_recommend\n",
    "\n"
   ]
  },
  {
   "cell_type": "code",
   "execution_count": 290,
   "id": "22d324bd",
   "metadata": {},
   "outputs": [],
   "source": [
    "import random "
   ]
  },
  {
   "cell_type": "code",
   "execution_count": 291,
   "id": "2a8a5bae",
   "metadata": {},
   "outputs": [
    {
     "name": "stdout",
     "output_type": "stream",
     "text": [
      "[[[3. 4. 2.]\n",
      "  [3. 4. 2.]\n",
      "  [0. 4. 3.]\n",
      "  [2. 4. 0.]\n",
      "  [0. 0. 2.]]\n",
      "\n",
      " [[3. 0. 2.]\n",
      "  [0. 0. 1.]\n",
      "  [2. 1. 3.]\n",
      "  [4. 0. 4.]\n",
      "  [0. 1. 1.]]]\n"
     ]
    }
   ],
   "source": [
    "#create random clothes tags\n",
    "my_list = [0, 1, 2, 3, 4]\n",
    "clothes = np.zeros((m, n, 3))\n",
    "for i in range(m):\n",
    "    for j in range(n):\n",
    "        for k in range(3):\n",
    "            clothes[i, j, k] = random.choice(my_list)\n",
    "    \n",
    "print(clothes[:2])"
   ]
  },
  {
   "cell_type": "code",
   "execution_count": 292,
   "id": "8634945c",
   "metadata": {},
   "outputs": [
    {
     "name": "stdout",
     "output_type": "stream",
     "text": [
      "[1 0 1 1 2] [2 2 4 4 0] [1 1 1 2 1] [2 4 2 4 1]\n"
     ]
    }
   ],
   "source": [
    "#create random personal tags\n",
    "customer1 = np.array([random.choice(my_list) for j in range(n)])\n",
    "\n",
    "#create 3 random selected style tags\n",
    "customer2 = np.array([random.choice(my_list) for j in range(n)])\n",
    "customer3 = np.array([random.choice(my_list) for j in range(n)])\n",
    "customer4 = np.array([random.choice(my_list) for j in range(n)])\n",
    "print(customer1, customer2, customer3, customer4)"
   ]
  },
  {
   "cell_type": "code",
   "execution_count": 293,
   "id": "67713401",
   "metadata": {},
   "outputs": [],
   "source": [
    "recommendationSystem = RecommendationSystem(clothes)\n",
    "\n",
    "distances_indices = recommendationSystem.recommend_based_on_questions([1,1,1,1,1], customer1, customer2, customer3, customer4)"
   ]
  },
  {
   "cell_type": "code",
   "execution_count": 294,
   "id": "4810e76c",
   "metadata": {},
   "outputs": [
    {
     "name": "stdout",
     "output_type": "stream",
     "text": [
      "[1 0 1 1 2]\n",
      "[[[2. 0. 1.]\n",
      "  [0. 0. 0.]\n",
      "  [1. 2. 1.]\n",
      "  [0. 3. 1.]\n",
      "  [1. 2. 3.]]\n",
      "\n",
      " [[1. 2. 3.]\n",
      "  [2. 4. 0.]\n",
      "  [1. 3. 4.]\n",
      "  [1. 2. 0.]\n",
      "  [2. 1. 2.]]\n",
      "\n",
      " [[2. 1. 4.]\n",
      "  [2. 1. 0.]\n",
      "  [2. 1. 2.]\n",
      "  [0. 1. 0.]\n",
      "  [2. 4. 3.]]\n",
      "\n",
      " [[1. 4. 3.]\n",
      "  [4. 4. 0.]\n",
      "  [4. 4. 1.]\n",
      "  [4. 2. 1.]\n",
      "  [1. 2. 0.]]\n",
      "\n",
      " [[3. 4. 2.]\n",
      "  [3. 4. 2.]\n",
      "  [0. 4. 3.]\n",
      "  [2. 4. 0.]\n",
      "  [0. 0. 2.]]\n",
      "\n",
      " [[1. 1. 4.]\n",
      "  [0. 4. 1.]\n",
      "  [0. 1. 2.]\n",
      "  [4. 2. 0.]\n",
      "  [3. 2. 2.]]\n",
      "\n",
      " [[0. 2. 3.]\n",
      "  [2. 4. 2.]\n",
      "  [1. 2. 1.]\n",
      "  [4. 2. 2.]\n",
      "  [3. 1. 3.]]]\n"
     ]
    },
    {
     "data": {
      "text/plain": [
       "numpy.ndarray"
      ]
     },
     "execution_count": 294,
     "metadata": {},
     "output_type": "execute_result"
    }
   ],
   "source": [
    "print(customer1)\n",
    "print(clothes[distances_indices])\n",
    "type(distances_indices)"
   ]
  },
  {
   "cell_type": "markdown",
   "id": "77d039c8",
   "metadata": {},
   "source": [
    "### 2.Test of update_cluster_taste function \n",
    "---\n",
    "creating random data and check the answers of update_cluster_taste function, subfunctions.\n",
    "its subfuctions including:\n",
    "- __which_cluster"
   ]
  },
  {
   "cell_type": "code",
   "execution_count": 295,
   "id": "31dfb83c",
   "metadata": {},
   "outputs": [
    {
     "data": {
      "text/plain": [
       "[5, 4.333333333333334, 5, 5, 5, 5]"
      ]
     },
     "execution_count": 295,
     "metadata": {},
     "output_type": "execute_result"
    }
   ],
   "source": [
    "#__wich_cluster always return 1 untill clustering implementation\n",
    "clusterTaste = [5, 5, 5, 5, 5, 5]\n",
    "recommendationSystem.update_cluster_taste(prev_cluster_taste=clusterTaste, comment=1, clothesInd=112)"
   ]
  },
  {
   "cell_type": "markdown",
   "id": "1cdf19dc",
   "metadata": {},
   "source": [
    "### 3.Test of recommend_based_on_clothes function \n",
    "---\n",
    "creating random data and check the answers of recommend_based_on_clothes function, subfunctions.\n",
    "its subfuctions including:\n",
    "- __special_mean\n",
    "- __one_recommend"
   ]
  },
  {
   "cell_type": "code",
   "execution_count": 296,
   "id": "0f0a15c3",
   "metadata": {},
   "outputs": [
    {
     "data": {
      "text/plain": [
       "array([[[2., 1., 0.],\n",
       "        [0., 1., 4.],\n",
       "        [0., 2., 4.],\n",
       "        [4., 4., 2.],\n",
       "        [3., 3., 4.]],\n",
       "\n",
       "       [[4., 3., 2.],\n",
       "        [3., 1., 1.],\n",
       "        [3., 2., 1.],\n",
       "        [2., 2., 4.],\n",
       "        [1., 1., 3.]],\n",
       "\n",
       "       [[3., 0., 2.],\n",
       "        [1., 4., 1.],\n",
       "        [2., 2., 3.],\n",
       "        [2., 0., 4.],\n",
       "        [0., 4., 0.]],\n",
       "\n",
       "       [[1., 2., 3.],\n",
       "        [4., 4., 2.],\n",
       "        [3., 1., 1.],\n",
       "        [3., 4., 2.],\n",
       "        [3., 3., 3.]],\n",
       "\n",
       "       [[2., 2., 2.],\n",
       "        [0., 1., 3.],\n",
       "        [4., 4., 1.],\n",
       "        [4., 2., 2.],\n",
       "        [4., 0., 2.]]])"
      ]
     },
     "execution_count": 296,
     "metadata": {},
     "output_type": "execute_result"
    }
   ],
   "source": [
    "clothesTest = [[1,2,10], [1,10,10], [3,4,10], [1,2,3], [2,3,4]]\n",
    "indecesTest3 = recommendationSystem.recommend_based_on_clothes(clothesTest, values=[1,1,1,1,1], anomaly=10 )\n",
    "clothes[indecesTest3]"
   ]
  },
  {
   "cell_type": "markdown",
   "id": "bc950a79",
   "metadata": {},
   "source": [
    "## Checked data"
   ]
  },
  {
   "cell_type": "code",
   "execution_count": 297,
   "id": "33a2ee4f",
   "metadata": {},
   "outputs": [],
   "source": [
    "preparedData = recommendationSystem.get_prepared_data_with_anwers()"
   ]
  },
  {
   "cell_type": "code",
   "execution_count": 298,
   "id": "cfd5bbab",
   "metadata": {},
   "outputs": [
    {
     "data": {
      "text/html": [
       "<div>\n",
       "<style scoped>\n",
       "    .dataframe tbody tr th:only-of-type {\n",
       "        vertical-align: middle;\n",
       "    }\n",
       "\n",
       "    .dataframe tbody tr th {\n",
       "        vertical-align: top;\n",
       "    }\n",
       "\n",
       "    .dataframe thead th {\n",
       "        text-align: right;\n",
       "    }\n",
       "</style>\n",
       "<table border=\"1\" class=\"dataframe\">\n",
       "  <thead>\n",
       "    <tr style=\"text-align: right;\">\n",
       "      <th></th>\n",
       "      <th>Id</th>\n",
       "      <th>Age_avg</th>\n",
       "      <th>Color_avg</th>\n",
       "      <th>Pattern_avg</th>\n",
       "      <th>Size_avg</th>\n",
       "      <th>Formal_avg</th>\n",
       "      <th>Answers</th>\n",
       "    </tr>\n",
       "  </thead>\n",
       "  <tbody>\n",
       "    <tr>\n",
       "      <th>0</th>\n",
       "      <td>1</td>\n",
       "      <td>-0.492343</td>\n",
       "      <td>0.840613</td>\n",
       "      <td>-1.232974</td>\n",
       "      <td>-0.237379</td>\n",
       "      <td>-0.325298</td>\n",
       "      <td>5</td>\n",
       "    </tr>\n",
       "    <tr>\n",
       "      <th>1</th>\n",
       "      <td>2</td>\n",
       "      <td>-0.063404</td>\n",
       "      <td>0.498812</td>\n",
       "      <td>-1.284624</td>\n",
       "      <td>-0.360428</td>\n",
       "      <td>-0.041892</td>\n",
       "      <td>2</td>\n",
       "    </tr>\n",
       "    <tr>\n",
       "      <th>2</th>\n",
       "      <td>3</td>\n",
       "      <td>-1.183419</td>\n",
       "      <td>0.997595</td>\n",
       "      <td>-1.209252</td>\n",
       "      <td>-0.180866</td>\n",
       "      <td>-0.247853</td>\n",
       "      <td>5</td>\n",
       "    </tr>\n",
       "    <tr>\n",
       "      <th>3</th>\n",
       "      <td>4</td>\n",
       "      <td>-1.092016</td>\n",
       "      <td>1.181218</td>\n",
       "      <td>-1.181505</td>\n",
       "      <td>-0.526508</td>\n",
       "      <td>-0.157266</td>\n",
       "      <td>5</td>\n",
       "    </tr>\n",
       "    <tr>\n",
       "      <th>4</th>\n",
       "      <td>5</td>\n",
       "      <td>-1.006565</td>\n",
       "      <td>0.632307</td>\n",
       "      <td>-1.155564</td>\n",
       "      <td>-0.052962</td>\n",
       "      <td>-0.072577</td>\n",
       "      <td>5</td>\n",
       "    </tr>\n",
       "    <tr>\n",
       "      <th>...</th>\n",
       "      <td>...</td>\n",
       "      <td>...</td>\n",
       "      <td>...</td>\n",
       "      <td>...</td>\n",
       "      <td>...</td>\n",
       "      <td>...</td>\n",
       "      <td>...</td>\n",
       "    </tr>\n",
       "    <tr>\n",
       "      <th>395</th>\n",
       "      <td>396</td>\n",
       "      <td>-0.233244</td>\n",
       "      <td>-0.187428</td>\n",
       "      <td>-1.076645</td>\n",
       "      <td>-0.359966</td>\n",
       "      <td>0.524249</td>\n",
       "      <td>2</td>\n",
       "    </tr>\n",
       "    <tr>\n",
       "      <th>396</th>\n",
       "      <td>397</td>\n",
       "      <td>-0.829927</td>\n",
       "      <td>0.916189</td>\n",
       "      <td>-0.264661</td>\n",
       "      <td>-0.590115</td>\n",
       "      <td>-0.548345</td>\n",
       "      <td>4</td>\n",
       "    </tr>\n",
       "    <tr>\n",
       "      <th>397</th>\n",
       "      <td>398</td>\n",
       "      <td>-0.689421</td>\n",
       "      <td>0.802802</td>\n",
       "      <td>-0.162292</td>\n",
       "      <td>-0.332399</td>\n",
       "      <td>-1.013306</td>\n",
       "      <td>4</td>\n",
       "    </tr>\n",
       "    <tr>\n",
       "      <th>398</th>\n",
       "      <td>399</td>\n",
       "      <td>-0.222391</td>\n",
       "      <td>-0.178707</td>\n",
       "      <td>0.177972</td>\n",
       "      <td>-0.355779</td>\n",
       "      <td>-0.487550</td>\n",
       "      <td>0</td>\n",
       "    </tr>\n",
       "    <tr>\n",
       "      <th>399</th>\n",
       "      <td>400</td>\n",
       "      <td>-0.872401</td>\n",
       "      <td>0.847928</td>\n",
       "      <td>-0.295606</td>\n",
       "      <td>-0.420622</td>\n",
       "      <td>-0.576407</td>\n",
       "      <td>4</td>\n",
       "    </tr>\n",
       "  </tbody>\n",
       "</table>\n",
       "<p>400 rows × 7 columns</p>\n",
       "</div>"
      ],
      "text/plain": [
       "      Id   Age_avg  Color_avg  Pattern_avg  Size_avg  Formal_avg  Answers\n",
       "0      1 -0.492343   0.840613    -1.232974 -0.237379   -0.325298        5\n",
       "1      2 -0.063404   0.498812    -1.284624 -0.360428   -0.041892        2\n",
       "2      3 -1.183419   0.997595    -1.209252 -0.180866   -0.247853        5\n",
       "3      4 -1.092016   1.181218    -1.181505 -0.526508   -0.157266        5\n",
       "4      5 -1.006565   0.632307    -1.155564 -0.052962   -0.072577        5\n",
       "..   ...       ...        ...          ...       ...         ...      ...\n",
       "395  396 -0.233244  -0.187428    -1.076645 -0.359966    0.524249        2\n",
       "396  397 -0.829927   0.916189    -0.264661 -0.590115   -0.548345        4\n",
       "397  398 -0.689421   0.802802    -0.162292 -0.332399   -1.013306        4\n",
       "398  399 -0.222391  -0.178707     0.177972 -0.355779   -0.487550        0\n",
       "399  400 -0.872401   0.847928    -0.295606 -0.420622   -0.576407        4\n",
       "\n",
       "[400 rows x 7 columns]"
      ]
     },
     "execution_count": 298,
     "metadata": {},
     "output_type": "execute_result"
    }
   ],
   "source": [
    "preparedData"
   ]
  },
  {
   "cell_type": "code",
   "execution_count": 299,
   "id": "d08b99f1",
   "metadata": {},
   "outputs": [],
   "source": [
    "preparedData.to_csv('sample.csv')\n"
   ]
  },
  {
   "cell_type": "markdown",
   "id": "3b39ccc6",
   "metadata": {},
   "source": [
    "## recommend_based_on_cluster"
   ]
  },
  {
   "cell_type": "code",
   "execution_count": 300,
   "id": "1dd13208",
   "metadata": {},
   "outputs": [
    {
     "name": "stdout",
     "output_type": "stream",
     "text": [
      "[237, 300, 261]\n",
      "[224, 329, 181, 308, 268, 199, 99, 258, 177, 363, 290]\n",
      "[2, 282, 64, 30, 277]\n",
      "[127, 46, 156]\n",
      "[152, 204, 214, 355, 134, 398, 20]\n",
      "[303, 179, 251, 167, 172]\n"
     ]
    },
    {
     "data": {
      "text/plain": [
       "[167,\n",
       " 179,\n",
       " 30,\n",
       " 134,\n",
       " 20,\n",
       " 152,\n",
       " 204,\n",
       " 300,\n",
       " 64,\n",
       " 258,\n",
       " 127,\n",
       " 277,\n",
       " 99,\n",
       " 237,\n",
       " 199,\n",
       " 363,\n",
       " 156,\n",
       " 172,\n",
       " 224,\n",
       " 282,\n",
       " 290,\n",
       " 308,\n",
       " 329,\n",
       " 261,\n",
       " 268,\n",
       " 214,\n",
       " 398,\n",
       " 181,\n",
       " 355,\n",
       " 2,\n",
       " 251,\n",
       " 177,\n",
       " 46,\n",
       " 303]"
      ]
     },
     "execution_count": 300,
     "metadata": {},
     "output_type": "execute_result"
    }
   ],
   "source": [
    "recommendationSystem.recommend_based_on_cluster([1,5,2,1,3,2], k=30)\n"
   ]
  },
  {
   "cell_type": "markdown",
   "id": "b73ba2d1",
   "metadata": {},
   "source": [
    "## test of faourite_items"
   ]
  },
  {
   "cell_type": "code",
   "execution_count": 301,
   "id": "60219551",
   "metadata": {},
   "outputs": [
    {
     "name": "stdout",
     "output_type": "stream",
     "text": [
      "[[1, 4.1, 4], [2, 3.9, 4], [3, 2.3, 5], [5, 4.4, 2]]\n"
     ]
    },
    {
     "data": {
      "text/plain": [
       "array([[1. , 4.5, 4. ],\n",
       "       [5. , 4.5, 2. ],\n",
       "       [2. , 4. , 4. ],\n",
       "       [3. , 2.5, 5. ]])"
      ]
     },
     "execution_count": 301,
     "metadata": {},
     "output_type": "execute_result"
    }
   ],
   "source": [
    "a =[[1,4.1,4],[2,3.9,4],[3,2.3,5],[5,4.4,2]]\n",
    "print(a)\n",
    "\n",
    "RecommendationSystem.favorite_items(a)"
   ]
  },
  {
   "cell_type": "code",
   "execution_count": 302,
   "id": "e9e3e866",
   "metadata": {},
   "outputs": [
    {
     "data": {
      "text/plain": [
       "[146, 336, 135, 305, 197, 143]"
      ]
     },
     "execution_count": 302,
     "metadata": {},
     "output_type": "execute_result"
    }
   ],
   "source": [
    "recommendationSystem.normal_recommend_question2()"
   ]
  },
  {
   "cell_type": "code",
   "execution_count": 303,
   "id": "b2bc279a",
   "metadata": {},
   "outputs": [],
   "source": [
    "recomending = RecommendationSystem(clothes)"
   ]
  },
  {
   "cell_type": "code",
   "execution_count": 304,
   "id": "1db295f1",
   "metadata": {},
   "outputs": [],
   "source": [
    "a = recomending.get_prepared_data_with_anwers()"
   ]
  },
  {
   "cell_type": "code",
   "execution_count": 305,
   "id": "8b5a66b0",
   "metadata": {},
   "outputs": [
    {
     "data": {
      "text/plain": [
       "Answers\n",
       "0    98\n",
       "1    31\n",
       "2    67\n",
       "3    67\n",
       "4    67\n",
       "5    70\n",
       "dtype: int64"
      ]
     },
     "execution_count": 305,
     "metadata": {},
     "output_type": "execute_result"
    }
   ],
   "source": [
    "a.groupby(['Answers']).size()"
   ]
  },
  {
   "cell_type": "code",
   "execution_count": 306,
   "id": "b7ecfac4",
   "metadata": {},
   "outputs": [
    {
     "name": "stderr",
     "output_type": "stream",
     "text": [
      "c:\\Users\\Asus\\anaconda3\\lib\\site-packages\\sklearn\\cluster\\_kmeans.py:881: UserWarning: KMeans is known to have a memory leak on Windows with MKL, when there are less chunks than available threads. You can avoid it by setting the environment variable OMP_NUM_THREADS=2.\n",
      "  warnings.warn(\n"
     ]
    },
    {
     "data": {
      "image/png": "[encoded data removed]",
      "text/plain": [
       "<Figure size 432x288 with 1 Axes>"
      ]
     },
     "metadata": {
      "needs_background": "light"
     },
     "output_type": "display_data"
    }
   ],
   "source": [
    "recomending.print_n_cluster()"
   ]
  },
  {
   "cell_type": "code",
   "execution_count": 307,
   "id": "502821af",
   "metadata": {},
   "outputs": [
    {
     "data": {
      "text/plain": [
       "array([  2,   7,   8,  11,  18,  23,  27,  30,  34,  44,  64,  69,  70,\n",
       "        76,  87, 121, 135, 144, 145, 153, 157, 162, 170, 174, 176, 190,\n",
       "       194, 196, 213, 219, 228, 232, 238, 240, 250, 253, 255, 266, 267,\n",
       "       270, 277, 278, 282, 283, 284, 291, 304, 307, 315, 316, 323, 328,\n",
       "       332, 334, 338, 348, 349, 358, 366, 368, 373, 374, 377, 385, 386,\n",
       "       392, 396])"
      ]
     },
     "execution_count": 307,
     "metadata": {},
     "output_type": "execute_result"
    }
   ],
   "source": [
    "a[~a.where(a['Answers'] == 2)['Answers'].isnull()]['Id'].values"
   ]
  },
  {
   "cell_type": "code",
   "execution_count": null,
   "id": "c7af6d9c",
   "metadata": {},
   "outputs": [],
   "source": []
  }
 ],
 "metadata": {
  "interpreter": {
   "hash": "52d90d3cc821dd0beedd6e719dbdecc722c226b9d90ed1b663c34e1877f1142e"
  },
  "kernelspec": {
   "display_name": "Python 3.8.8 ('base')",
   "language": "python",
   "name": "python3"
  },
  "language_info": {
   "codemirror_mode": {
    "name": "ipython",
    "version": 3
   },
   "file_extension": ".py",
   "mimetype": "text/x-python",
   "name": "python",
   "nbconvert_exporter": "python",
   "pygments_lexer": "ipython3",
   "version": "3.8.8"
  }
 },
 "nbformat": 4,
 "nbformat_minor": 5
}
