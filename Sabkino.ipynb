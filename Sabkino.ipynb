{
 "cells": [
  {
   "cell_type": "code",
   "execution_count": 4,
   "id": "72f4fd5e",
   "metadata": {},
   "outputs": [],
   "source": [
    "import numpy as np\n",
    "import pandas as pd\n",
    "from math import *"
   ]
  },
  {
   "cell_type": "code",
   "execution_count": 5,
   "id": "83d82205",
   "metadata": {},
   "outputs": [],
   "source": [
    "# n equal to number of features\n",
    "n = 8\n",
    "\n",
    "# m equal to number of samples\n",
    "m = 100"
   ]
  },
  {
   "cell_type": "code",
   "execution_count": 6,
   "id": "6033cb16",
   "metadata": {},
   "outputs": [],
   "source": [
    "# Coefficients of each feature\n",
    "values = [1, 0.6, 1, 1, 0.5, 0.75, 0.80, 1]\n"
   ]
  },
  {
   "cell_type": "code",
   "execution_count": 115,
   "id": "6a50e08c",
   "metadata": {},
   "outputs": [
    {
     "ename": "SyntaxError",
     "evalue": "invalid syntax (<ipython-input-115-787990ccfca1>, line 26)",
     "output_type": "error",
     "traceback": [
      "\u001b[1;36m  File \u001b[1;32m\"<ipython-input-115-787990ccfca1>\"\u001b[1;36m, line \u001b[1;32m26\u001b[0m\n\u001b[1;33m    def distance_3\u001b[0m\n\u001b[1;37m                  ^\u001b[0m\n\u001b[1;31mSyntaxError\u001b[0m\u001b[1;31m:\u001b[0m invalid syntax\n"
     ]
    }
   ],
   "source": [
    "class Similarity:\n",
    "    \n",
    "    def __init__(self, features, values):\n",
    "        self.features = features\n",
    "        self.values = values\n",
    "    \n",
    "        \n",
    "    def recommend(self, customer_features, k = 15):\n",
    "        # compute distances by one of the distance(distance_1, distance_2, ...) functions\n",
    "        distances = np.array([self.distance_2(customer_features, f) for f in self.features])\n",
    "        \n",
    "        # get k nearest style indices\n",
    "        k_indices = np.argsort(distances)[:k]\n",
    "        \n",
    "        #print(distances[k_indices])\n",
    "\n",
    "        # return the selected style indices\n",
    "        return k_indices\n",
    "    \n",
    "\n",
    "    def distance_1(self, x, y):\n",
    "        return np.sum(self.values * np.abs(x - y))\n",
    "    \n",
    "    \n",
    "    def distance_2(self, x, y):\n",
    "        return np.sqrt(np.sum(self.values * ((x - y) ** 2))) \n",
    "    \n",
    "    def distance_3\n",
    "    "
   ]
  },
  {
   "cell_type": "markdown",
   "id": "9e6ea097",
   "metadata": {},
   "source": [
    "# creating random data and check the answers...\n"
   ]
  },
  {
   "cell_type": "code",
   "execution_count": 17,
   "id": "22d324bd",
   "metadata": {},
   "outputs": [],
   "source": [
    "import random "
   ]
  },
  {
   "cell_type": "code",
   "execution_count": 70,
   "id": "2a8a5bae",
   "metadata": {},
   "outputs": [
    {
     "name": "stdout",
     "output_type": "stream",
     "text": [
      "[[3. 2. 2. 0. 2. 1. 3. 3.]\n",
      " [3. 2. 4. 0. 1. 0. 1. 2.]\n",
      " [3. 4. 2. 1. 3. 0. 3. 2.]]\n"
     ]
    }
   ],
   "source": [
    "#create random clothes tags\n",
    "my_list = [0, 1, 2, 3, 4]\n",
    "clothes = np.zeros((100, 8))\n",
    "\n",
    "for i in range(100):\n",
    "    clothes[i] = ([random.choice(my_list) for j in range(n)])\n",
    "    \n",
    "print(clothes[:3])"
   ]
  },
  {
   "cell_type": "code",
   "execution_count": 103,
   "id": "8634945c",
   "metadata": {},
   "outputs": [
    {
     "name": "stdout",
     "output_type": "stream",
     "text": [
      "[3 3 4 2 1 3 4 3]\n"
     ]
    }
   ],
   "source": [
    "#create random person tags\n",
    "customer = np.array([random.choice(my_list) for j in range(n)])\n",
    "\n",
    "print(customer)"
   ]
  },
  {
   "cell_type": "code",
   "execution_count": 116,
   "id": "67713401",
   "metadata": {},
   "outputs": [
    {
     "name": "stdout",
     "output_type": "stream",
     "text": [
      "[4.3  4.4  5.05 5.35 5.65 5.85 5.95 6.   6.4  6.6  6.8  7.05 7.1  7.3\n",
      " 7.4 ]\n"
     ]
    }
   ],
   "source": [
    "similarity = Similarity(clothes, values)\n",
    "distances_indices = similarity.recommend(customer)"
   ]
  },
  {
   "cell_type": "code",
   "execution_count": 117,
   "id": "4810e76c",
   "metadata": {},
   "outputs": [
    {
     "name": "stdout",
     "output_type": "stream",
     "text": [
      "[[4. 3. 3. 2. 4. 3. 3. 3.]\n",
      " [4. 2. 3. 3. 1. 3. 3. 3.]\n",
      " [3. 0. 4. 3. 2. 2. 4. 4.]\n",
      " [3. 2. 2. 2. 3. 2. 4. 2.]\n",
      " [2. 4. 4. 4. 0. 4. 3. 3.]\n",
      " [0. 2. 4. 3. 0. 4. 4. 3.]\n",
      " [3. 1. 3. 1. 3. 2. 4. 4.]\n",
      " [0. 3. 4. 4. 1. 3. 4. 4.]\n",
      " [3. 4. 2. 1. 0. 1. 3. 3.]\n",
      " [3. 2. 3. 3. 0. 1. 4. 1.]\n",
      " [2. 0. 4. 4. 2. 1. 4. 3.]\n",
      " [1. 3. 4. 3. 2. 4. 3. 1.]\n",
      " [3. 2. 3. 0. 3. 1. 4. 4.]\n",
      " [4. 0. 2. 3. 2. 3. 4. 4.]\n",
      " [3. 2. 2. 0. 2. 1. 3. 3.]]\n"
     ]
    }
   ],
   "source": [
    "print(clothes[distances_indices])"
   ]
  },
  {
   "cell_type": "code",
   "execution_count": null,
   "id": "7ae6551f",
   "metadata": {},
   "outputs": [],
   "source": []
  }
 ],
 "metadata": {
  "kernelspec": {
   "display_name": "Python 3",
   "language": "python",
   "name": "python3"
  },
  "language_info": {
   "codemirror_mode": {
    "name": "ipython",
    "version": 3
   },
   "file_extension": ".py",
   "mimetype": "text/x-python",
   "name": "python",
   "nbconvert_exporter": "python",
   "pygments_lexer": "ipython3",
   "version": "3.8.8"
  }
 },
 "nbformat": 4,
 "nbformat_minor": 5
}
