{
 "cells": [
  {
   "cell_type": "code",
   "execution_count": 1,
   "id": "72f4fd5e",
   "metadata": {},
   "outputs": [],
   "source": [
    "import numpy as np\n",
    "import pandas as pd\n",
    "from math import *"
   ]
  },
  {
   "cell_type": "code",
   "execution_count": 2,
   "id": "83d82205",
   "metadata": {},
   "outputs": [],
   "source": [
    "# n equal to number of features\n",
    "n = 5\n",
    "\n",
    "# m equal to number of samples\n",
    "m = 100"
   ]
  },
  {
   "cell_type": "code",
   "execution_count": 3,
   "id": "6033cb16",
   "metadata": {},
   "outputs": [],
   "source": [
    "# Coefficients of each feature\n",
    "values = [1, 1, 1, 1, 1]\n"
   ]
  },
  {
   "cell_type": "code",
   "execution_count": 4,
   "id": "6a50e08c",
   "metadata": {},
   "outputs": [],
   "source": [
    "class Similarity:\n",
    "    \n",
    "    def __init__(self, features):\n",
    "        self.features = features\n",
    "\n",
    "        \n",
    "    def recommend(self, values, customer_feature1, customer_feature2, customer_feature3, customer_feature4, k1 = 6, k2=2, k3=2, k4=2):\n",
    "        # compute distances by one of the distance(distance_1, distance_2, ...) functions\n",
    "        distances1 = np.array([self.distance_2(customer_feature1, f, values) for f in self.features])\n",
    "        distances2 = np.array([self.distance_2(customer_feature2, f, values) for f in self.features])\n",
    "        distances3 = np.array([self.distance_2(customer_feature3, f, values) for f in self.features])\n",
    "        distances4 = np.array([self.distance_2(customer_feature4, f, values) for f in self.features])\n",
    "\n",
    "        # get k nearest style indices\n",
    "        k_indices1 = np.argsort(distances1)[:k1]\n",
    "        k_indices2 = np.argsort(distances2)[:k2]\n",
    "        k_indices3 = np.argsort(distances3)[:k3]\n",
    "        k_indices4 = np.argsort(distances4)[:k4]\n",
    "\n",
    "        #print(distances1[k_indices1])\n",
    "        #print(self.features[k_indices1])\n",
    "        \n",
    "        # merge and unigue indices(union)\n",
    "        k_indices = np.union1d(k_indices1, np.union1d(k_indices2, np.union1d(k_indices3, k_indices4)))\n",
    "        #print(self.features[k_indices])\n",
    "        \n",
    "        # return the selected style indices\n",
    "        return k_indices\n",
    "    \n",
    "\n",
    "    def distance_1(self, x, y, values):\n",
    "        return np.sum(values * np.abs(x - y))\n",
    "    \n",
    "    \n",
    "    def distance_2(self, x, y, values):\n",
    "        return np.sqrt(np.sum(values * ((x - y) ** 2))) \n",
    "    \n",
    "    "
   ]
  },
  {
   "cell_type": "markdown",
   "id": "9e6ea097",
   "metadata": {},
   "source": [
    "# creating random data and check the answers...\n"
   ]
  },
  {
   "cell_type": "code",
   "execution_count": 5,
   "id": "22d324bd",
   "metadata": {},
   "outputs": [],
   "source": [
    "import random "
   ]
  },
  {
   "cell_type": "code",
   "execution_count": 6,
   "id": "2a8a5bae",
   "metadata": {},
   "outputs": [
    {
     "name": "stdout",
     "output_type": "stream",
     "text": [
      "[[4. 4. 4. 1. 4.]\n",
      " [3. 2. 3. 0. 0.]\n",
      " [4. 3. 4. 1. 4.]]\n"
     ]
    }
   ],
   "source": [
    "#create random clothes tags\n",
    "my_list = [0, 1, 2, 3, 4]\n",
    "clothes = np.zeros((100, n))\n",
    "\n",
    "for i in range(100):\n",
    "    clothes[i] = ([random.choice(my_list) for j in range(n)])\n",
    "    \n",
    "print(clothes[:3])"
   ]
  },
  {
   "cell_type": "code",
   "execution_count": 8,
   "id": "8634945c",
   "metadata": {},
   "outputs": [
    {
     "name": "stdout",
     "output_type": "stream",
     "text": [
      "[1 3 2 2 0] [4 4 0 4 1] [4 4 0 1 4] [0 2 4 4 4]\n"
     ]
    }
   ],
   "source": [
    "#create random personal tags\n",
    "customer1 = np.array([random.choice(my_list) for j in range(n)])\n",
    "\n",
    "#create 3 random selected style tags\n",
    "customer2 = np.array([random.choice(my_list) for j in range(n)])\n",
    "customer3 = np.array([random.choice(my_list) for j in range(n)])\n",
    "customer4 = np.array([random.choice(my_list) for j in range(n)])\n",
    "print(customer1, customer2, customer3, customer4)"
   ]
  },
  {
   "cell_type": "code",
   "execution_count": 9,
   "id": "67713401",
   "metadata": {},
   "outputs": [],
   "source": [
    "similarity = Similarity(clothes)\n",
    "\n",
    "distances_indices = similarity.recommend(values, customer1, customer2, customer3, customer4, k1= 3, k2=1, k3=1, k4=1)"
   ]
  },
  {
   "cell_type": "code",
   "execution_count": 10,
   "id": "4810e76c",
   "metadata": {},
   "outputs": [
    {
     "name": "stdout",
     "output_type": "stream",
     "text": [
      "[[4. 3. 0. 4. 2.]\n",
      " [1. 3. 0. 2. 0.]\n",
      " [2. 3. 2. 3. 0.]\n",
      " [4. 4. 1. 2. 4.]\n",
      " [1. 4. 2. 3. 2.]\n",
      " [0. 2. 4. 4. 2.]]\n"
     ]
    }
   ],
   "source": [
    "print(clothes[distances_indices])"
   ]
  },
  {
   "cell_type": "code",
   "execution_count": null,
   "id": "7ae6551f",
   "metadata": {},
   "outputs": [],
   "source": []
  }
 ],
 "metadata": {
  "kernelspec": {
   "display_name": "Python 3",
   "language": "python",
   "name": "python3"
  },
  "language_info": {
   "codemirror_mode": {
    "name": "ipython",
    "version": 3
   },
   "file_extension": ".py",
   "mimetype": "text/x-python",
   "name": "python",
   "nbconvert_exporter": "python",
   "pygments_lexer": "ipython3",
   "version": "3.8.8"
  }
 },
 "nbformat": 4,
 "nbformat_minor": 5
}
